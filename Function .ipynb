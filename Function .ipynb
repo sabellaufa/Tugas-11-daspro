{
 "cells": [
  {
   "cell_type": "markdown",
   "metadata": {
    "id": "taT9VpcuQ5xY"
   },
   "source": [
    "<h2>Pengertian</h2>\n",
    "<ol>\n",
    "    <li>Fungsi pada python adalah kumpulan perintah atau baris kode yang dikelompokkan menjadi satu kesatuan untuk kemudian bisa dipanggil atau digunakan berkali-kali.</li>\n",
    "    <li>Sebuah fungsi dapat menerima parameter, dapat mengembalikan suatu nilai, dan dapat dipanggil berkali-kali secara independen.</li>\n",
    "</ol>\n",
    "<hr>\n",
    "<h2>Keuntungan</h2>\n",
    "<ol>\n",
    "    <li>Membagi kode program menjadi bagian-bagian kecil dengan tugasnya masing-masing.</li>\n",
    "    <li>Membuat kode program menjadi lebih “reusable” dan lebih terstruktur.</li>\n",
    "</ol>\n",
    "<hr>\n",
    "<h2>Sintaks</h2>\n",
    "\n",
    "```python\n",
    "def function_name():\n",
    "    Logic Program\n",
    "```\n",
    "Cara memanggil fungsi dengan menuliskan function_name diikuti kurung buka tutup () beserta parameter jika ada\n",
    "\n",
    "```python\n",
    "    function_name()\n",
    "```\n",
    "<hr>\n",
    "Buatlah fungsi dengan nama \"helloPython\" yang berfungsi untuk mencetak \"Welcome in Python Language\""
   ]
  },
  {
   "cell_type": "code",
   "execution_count": 1,
   "metadata": {
    "colab": {
     "base_uri": "https://localhost:8080/",
     "height": 0
    },
    "id": "HhKotYPTQ5xh",
    "outputId": "74a72dce-b3f4-4578-be3f-31cc2d890b9e"
   },
   "outputs": [
    {
     "name": "stdout",
     "output_type": "stream",
     "text": [
      "Welcome in Python Language\n"
     ]
    }
   ],
   "source": [
    "def helloPython():\n",
    "  print('Welcome in Python Language')\n",
    "helloPython()"
   ]
  },
  {
   "cell_type": "markdown",
   "metadata": {
    "id": "SGIwoZISQ5xj"
   },
   "source": [
    "<h1>Fungsi dengan parameter</h1>\n",
    "Sebuah fungsi dapat menerima parameter ataupun argumen yang merupakan suatu nilai/variabel yang dilemparkan ke dalam fungsi untuk diproses lebih lanjut.\n",
    "\n",
    "<h2>Sintaks</h2>\n",
    "\n",
    "```python\n",
    "def function_name(param):\n",
    "    Logic Program\n",
    "```\n",
    "Cara memanggil fungsi dengan menuliskan function_name diikuti kurung buka tutup () beserta parameter\n",
    "\n",
    "```python\n",
    "    function_name(param)\n",
    "```\n",
    "<hr>"
   ]
  },
  {
   "cell_type": "markdown",
   "metadata": {
    "id": "Bc7ZH0JqQ5xk"
   },
   "source": [
    "Buatlah fungsi dengan nama \"fullName\" yang mempunyai parameter \"firstname\" dan \"lastname\" digunakan untuk mencetak \"firstname\" dan \"lastname\""
   ]
  },
  {
   "cell_type": "code",
   "execution_count": null,
   "metadata": {
    "id": "dGemjvdpQ5xk"
   },
   "outputs": [],
   "source": [
    "def fullName(firstname, lastname):\n",
    "  print(firstname, lastname)"
   ]
  },
  {
   "cell_type": "markdown",
   "metadata": {
    "id": "rVYwWTVuQ5xl"
   },
   "source": [
    "Parameter fungsi diperbolehkan menggunakan lebih dari 1, dimana paramater tersebut ada yang wajib harus diisi dan ada yang tidak harus diisi\n",
    "\n",
    "```python\n",
    "def function_name(param_1, param_2, param_3,....):\n",
    "    Logic Program\n",
    "```\n",
    "\n",
    "Cara memanggil fungsi dengan menuliskan function_name diikuti kurung buka tutup () beserta parameter\n",
    "\n",
    "```python\n",
    "    function_name(param_1, param_2, param_3)\n",
    "```\n",
    "<hr>\n",
    "Buatlah fungsi dengan nama maxValue yang mempunyai parameter \"val_1\",\"val_2\" dan \"val_3\" yang bertujuan untuk mencari nilai terbesar dari 3 nilai tersebut"
   ]
  },
  {
   "cell_type": "code",
   "execution_count": 2,
   "metadata": {
    "colab": {
     "base_uri": "https://localhost:8080/",
     "height": 0
    },
    "id": "TldktdkfQ5xl",
    "outputId": "9f63738d-df17-4436-9377-fdbdf55be14b"
   },
   "outputs": [
    {
     "data": {
      "text/plain": [
       "3"
      ]
     },
     "execution_count": 2,
     "metadata": {},
     "output_type": "execute_result"
    }
   ],
   "source": [
    "def maxValue(val_1, val_2, val_3):\n",
    "  list = [val_1, val_2, val_3]\n",
    "  return max(list)\n",
    "maxValue(1, 3, 2)"
   ]
  },
  {
   "cell_type": "markdown",
   "metadata": {
    "id": "L8W5xeWDQ5xl"
   },
   "source": [
    "Parameter opsional digunakan pada fungsi dengan cara memberikan nilai default, artinya nilai parameter sudah diberikan terlebih dahulu tanpa dipanggil\n",
    "\n",
    "```python\n",
    "def function_name(param_1, param_2, param_3 = 'Nilai'):\n",
    "    Logic Program\n",
    "```"
   ]
  },
  {
   "cell_type": "markdown",
   "metadata": {
    "id": "xL2xfPZBQ5xm"
   },
   "source": [
    "Buatlah fungsi \"countCircleArea\" dengan 2 parameter yaitu \"phi\" dan \"diameter\" dimana parameter phi mempunyai nilai default 3.14"
   ]
  },
  {
   "cell_type": "code",
   "execution_count": 8,
   "metadata": {
    "id": "FE9e0HtbQ5xm"
   },
   "outputs": [],
   "source": [
    "def countCircleArea(diameter, phi=3.14):\n",
    "  print(f\"phi : {phi}\\ndiameter : {diameter}\")"
   ]
  },
  {
   "cell_type": "markdown",
   "metadata": {
    "id": "O0PO_0qoQ5xm"
   },
   "source": [
    "Fungsi dengan 2 Parameter opsional juga dapat dilakukan pada Python.\n",
    "\n",
    "```python\n",
    "def info(suhu, daerah='Sukabumi', satuan = 'Celcius'):\n",
    "    print(f\"Suhu sekarang di {daerah} : {suhu} {satuan} \")\n",
    "```\n",
    "Adapun Cara memanggilnya\n",
    "\n",
    "```python\n",
    "    info(30)\n",
    "```"
   ]
  },
  {
   "cell_type": "code",
   "execution_count": 9,
   "metadata": {
    "colab": {
     "base_uri": "https://localhost:8080/",
     "height": 0
    },
    "id": "MAyXeZ-nQ5xo",
    "outputId": "156c3b55-917e-4f6f-d691-032b2403c6ab"
   },
   "outputs": [
    {
     "name": "stdout",
     "output_type": "stream",
     "text": [
      "phi : 3.14\n",
      "diameter : 20\n"
     ]
    }
   ],
   "source": [
    "#Cobalah fungsi tersebut pada area kode disini\n",
    "countCircleArea(20)"
   ]
  },
  {
   "cell_type": "markdown",
   "metadata": {
    "id": "NT96scv_Q5xp"
   },
   "source": [
    "<h1>Fungsi dengan Return Value</h1>\n",
    "\n",
    "Yaitu fungsi dimana akhir dari programnya adalah nilai kembalian atau nilai balik. Artinya nilai dalam fungsi dapat ditampung lagi ke variabel lain untuk digunakan operasi lebih lanjut.\n",
    "\n",
    "Buatlah fungsi dengan return value yang digunakan untuk mengecek sebuah bilangan termasuk bilangan negatif, bilangan neteral(0) dan bilangan positif"
   ]
  },
  {
   "cell_type": "code",
   "execution_count": 11,
   "metadata": {
    "colab": {
     "base_uri": "https://localhost:8080/",
     "height": 0
    },
    "id": "xBgwDEfOQ5xq",
    "outputId": "d08ee71c-76c3-4e3b-eb70-91451cfdd9be"
   },
   "outputs": [
    {
     "name": "stdout",
     "output_type": "stream",
     "text": [
      "negatif\n"
     ]
    }
   ],
   "source": [
    "\n",
    "def angka(number):\n",
    "  bilangan = ''\n",
    "  if number < 0:\n",
    "    bilangan = 'negatif'\n",
    "  elif number == 0:\n",
    "    bilangan = 'neteral'\n",
    "  else :\n",
    "    bilangan = 'positif'\n",
    "  return bilangan\n",
    "print(angka(-1))"
   ]
  },
  {
   "cell_type": "markdown",
   "metadata": {
    "id": "I5ClSSUSQ5xq"
   },
   "source": [
    "<h3>Soal Latihan</h3>\n",
    "<ol>\n",
    "    <li>Buatlah fungsi untuk menjumlahkan total nilai dari list</li>\n",
    "    <li>Buatlah fungsi untuk mencari nilai terbesar dari sekumpulan list </li>\n",
    "    <li>Buatlah fungsi untuk menjumlahkan 2 buah list </li>\n",
    "</ol>\n"
   ]
  },
  {
   "cell_type": "code",
   "execution_count": 2,
   "metadata": {
    "colab": {
     "base_uri": "https://localhost:8080/",
     "height": 0
    },
    "id": "iBv3hXEDQ5xr",
    "outputId": "09ff7ad2-29f9-449e-db63-aab409bfcf37"
   },
   "outputs": [
    {
     "data": {
      "text/plain": [
       "28"
      ]
     },
     "execution_count": 2,
     "metadata": {},
     "output_type": "execute_result"
    }
   ],
   "source": [
    "#Soal 1\n",
    "angka = [5, 4, 3, 7, 9, ]\n",
    "def totalValues(angka):\n",
    "  total = 0\n",
    "  for i in range(len(angka)):\n",
    "    total += angka[i]\n",
    "  return total\n",
    "totalValues(angka)"
   ]
  },
  {
   "cell_type": "code",
   "execution_count": 3,
   "metadata": {
    "colab": {
     "base_uri": "https://localhost:8080/",
     "height": 0
    },
    "id": "31YzNzBeQ5xr",
    "outputId": "0d16baca-1cce-4383-83a3-edfc85af1358"
   },
   "outputs": [
    {
     "data": {
      "text/plain": [
       "56"
      ]
     },
     "execution_count": 3,
     "metadata": {},
     "output_type": "execute_result"
    }
   ],
   "source": [
    "#Soal 2\n",
    "angka = [23, 43, 11, 56, 20, 4]\n",
    "def maxNumber(angka):\n",
    "  return max(angka)\n",
    "maxNumber(angka)"
   ]
  },
  {
   "cell_type": "code",
   "execution_count": 1,
   "metadata": {
    "colab": {
     "base_uri": "https://localhost:8080/",
     "height": 0
    },
    "id": "LGlQr2fRQ5xr",
    "outputId": "a7b45b2e-d1a0-4f2f-e0d6-d43670e643ad"
   },
   "outputs": [
    {
     "data": {
      "text/plain": [
       "['Sabella', 'Aufa', 'Syahda']"
      ]
     },
     "execution_count": 1,
     "metadata": {},
     "output_type": "execute_result"
    }
   ],
   "source": [
    "#Soal 3\n",
    "list1 = ['Sabella', 'Aufa']\n",
    "list2 = ['Syahda']\n",
    "def mixList(list1, list2):\n",
    "  return list1 + list2\n",
    "mixList(list1, list2)"
   ]
  }
 ],
 "metadata": {
  "colab": {
   "provenance": []
  },
  "kernelspec": {
   "display_name": "Python 3 (ipykernel)",
   "language": "python",
   "name": "python3"
  },
  "language_info": {
   "codemirror_mode": {
    "name": "ipython",
    "version": 3
   },
   "file_extension": ".py",
   "mimetype": "text/x-python",
   "name": "python",
   "nbconvert_exporter": "python",
   "pygments_lexer": "ipython3",
   "version": "3.11.7"
  }
 },
 "nbformat": 4,
 "nbformat_minor": 4
}
